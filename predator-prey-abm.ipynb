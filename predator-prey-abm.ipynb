{
 "cells": [
  {
   "cell_type": "markdown",
   "metadata": {},
   "source": [
    "# SYSC 535 Modeling And Simulation\n",
    "## LAB 03: AGENT BASED MODELS\n",
    "**Christan Hower** \n",
    "\n",
    "*Spring '19*"
   ]
  },
  {
   "cell_type": "markdown",
   "metadata": {},
   "source": [
    "### AGENT BASED MODEL\n",
    "#### PREDATOR-PREY MODEL"
   ]
  },
  {
   "cell_type": "code",
   "execution_count": 161,
   "metadata": {
    "collapsed": true
   },
   "outputs": [],
   "source": [
    "from pylab import *\n",
    "import copy as cp\n",
    "import pandas as pd\n",
    "%matplotlib inline\n",
    "\n",
    "nr = 500. # carrying capacity of rabbits\n",
    "\n",
    "r_init = 100 # initial rabbit population\n",
    "mr = 0.03 # magnitude of movement of rabbits\n",
    "dr = 4.0 # death rate of rabbits when it faces foxes\n",
    "rr = 0.1 # reproduction rate of rabbits\n",
    "\n",
    "f_init = 30 # initial fox population\n",
    "mf = 0.05 # magnitude of movement of foxes\n",
    "df = 0.1 # death rate of foxes when there is no food\n",
    "rf = 0.5 # reproduction rate of foxes\n",
    "\n",
    "cd = 0.02 # radius for collision detection\n",
    "cdsq = cd ** 2"
   ]
  },
  {
   "cell_type": "code",
   "execution_count": 162,
   "metadata": {},
   "outputs": [],
   "source": [
    "class agent:\n",
    "    pass\n",
    "\n",
    "class predatorPrey:\n",
    "    def __init__(self):\n",
    "        columns = ['foxes', 'rabbits']\n",
    "        self.history = pd.DataFrame(columns = [columns])\n",
    "        self.agents = []\n",
    "        for i in range(r_init + f_init):\n",
    "            ag = agent()\n",
    "            ag.type = 'r' if i < r_init else 'f'\n",
    "            ag.x = random()\n",
    "            ag.y = random()\n",
    "            self.agents.append(ag)\n",
    "            \n",
    "    \n",
    "    def __observe__(self):\n",
    "\n",
    "        cla()\n",
    "        rabbits = [ag for ag in self.agents if ag.type == 'r']\n",
    "        \n",
    "        if len(rabbits) > 0:\n",
    "            x = [ag.x for ag in rabbits]\n",
    "            y = [ag.y for ag in rabbits]\n",
    "            plot(x, y, 'b.')\n",
    "        foxes = [ag for ag in self.agents if ag.type == 'f']\n",
    "        \n",
    "        if len(foxes) > 0:\n",
    "            x = [ag.x for ag in foxes]\n",
    "            y = [ag.y for ag in foxes]\n",
    "            plot(x, y, 'ro')\n",
    "        axis('image')\n",
    "        axis([0, 1, 0, 1])\n",
    "    \n",
    "    def __update__(self):\n",
    "\n",
    "        if self.agents == []:\n",
    "            return\n",
    "    \n",
    "        ag = self.agents[randint(len(self.agents))]\n",
    "    \n",
    "        # simulating random movement\n",
    "        m = mr if ag.type == 'r' else mf\n",
    "        ag.x += uniform(-m, m)\n",
    "        ag.y += uniform(-m, m)\n",
    "        ag.x = 1 if ag.x > 1 else 0 if ag.x < 0 else ag.x\n",
    "        ag.y = 1 if ag.y > 1 else 0 if ag.y < 0 else ag.y\n",
    "    \n",
    "        # detecting collision and simulating death or birth\n",
    "        neighbors = [nb for nb in self.agents if nb.type != ag.type\n",
    "                     and (ag.x - nb.x)**2 + (ag.y - nb.y)**2 < cdsq]\n",
    "    \n",
    "        if ag.type == 'r':\n",
    "            if len(neighbors) > 0: # if there are foxes nearby\n",
    "                if random() < dr:\n",
    "                    self.agents.remove(ag)\n",
    "                    return\n",
    "            if random() < rr*(1-sum(1 for x in self.agents if x.type == 'r')/nr):\n",
    "                self.agents.append(cp.copy(ag))\n",
    "        else:\n",
    "            if len(neighbors) == 0: # if there are no rabbits nearby\n",
    "                if random() < df:\n",
    "                    self.agents.remove(ag)\n",
    "                    return\n",
    "            else: # if there are rabbits nearby\n",
    "                if random() < rf:\n",
    "                    self.agents.append(cp.copy(ag))\n",
    "    \n",
    "    def __update_one_unit_time__(self):\n",
    "        t = 0.\n",
    "        while t < 1. and len(self.agents) > 0:\n",
    "            t += 1. / len(self.agents)\n",
    "            self.__update__()\n",
    "            \n",
    "            \n",
    "    def run_sim(self, nsims = 20):\n",
    "        t = 0 \n",
    "        while t < nsims:\n",
    "            self.__observe__()\n",
    "            self.__update_one_unit_time__()\n",
    "            self.get_pop()\n",
    "            t += 1            \n",
    "\n",
    "    def get_pop(self):\n",
    "        foxes = [ag for ag in self.agents if ag.type == 'f']\n",
    "        rabbits = [ag for ag in self.agents if ag.type == 'r']\n",
    "        self.history = self.history.append({'foxes': len(foxes), 'rabbits': len(rabbits)}, ignore_index=True)\n",
    "        \n",
    "    def get_summary(self):\n",
    "        self.summary = pd.DataFrame(columns = ['animal','mean', 'min', 'max'])\n",
    "        fmean = self.history['foxes'].mean()\n",
    "        fmin = self.history['foxes'].min()\n",
    "        fmax = self.history['foxes'].max()\n",
    "    \n",
    "        rmean = self.history['rabbits'].mean()\n",
    "        rmin = self.history['rabbits'].min()\n",
    "        rmax = self.history['rabbits'].max()\n",
    "        \n",
    "        self.summary = self.summary.append({'animal': 'foxes', 'mean': fmean,\n",
    "                                          'min' : fmin, 'max' : fmax}, ignore_index=True)\n",
    "        self.summary = self.summary.append({'animal': 'rabbits', 'mean': rmean,\n",
    "                                          'min' : rmin, 'max' : rmax}, ignore_index=True)\n",
    "        \n",
    "        return self.summary\n",
    "        "
   ]
  },
  {
   "cell_type": "code",
   "execution_count": 163,
   "metadata": {},
   "outputs": [],
   "source": [
    "model = predatorPrey()"
   ]
  },
  {
   "cell_type": "code",
   "execution_count": 165,
   "metadata": {},
   "outputs": [
    {
     "data": {
      "text/html": [
       "<div>\n",
       "<style>\n",
       "    .dataframe thead tr:only-child th {\n",
       "        text-align: right;\n",
       "    }\n",
       "\n",
       "    .dataframe thead th {\n",
       "        text-align: left;\n",
       "    }\n",
       "\n",
       "    .dataframe tbody tr th {\n",
       "        vertical-align: top;\n",
       "    }\n",
       "</style>\n",
       "<table border=\"1\" class=\"dataframe\">\n",
       "  <thead>\n",
       "    <tr style=\"text-align: right;\">\n",
       "      <th></th>\n",
       "      <th>animal</th>\n",
       "      <th>mean</th>\n",
       "      <th>min</th>\n",
       "      <th>max</th>\n",
       "    </tr>\n",
       "  </thead>\n",
       "  <tbody>\n",
       "    <tr>\n",
       "      <th>0</th>\n",
       "      <td>foxes</td>\n",
       "      <td>45.24</td>\n",
       "      <td>17</td>\n",
       "      <td>124</td>\n",
       "    </tr>\n",
       "    <tr>\n",
       "      <th>1</th>\n",
       "      <td>rabbits</td>\n",
       "      <td>315.68</td>\n",
       "      <td>101</td>\n",
       "      <td>400</td>\n",
       "    </tr>\n",
       "  </tbody>\n",
       "</table>\n",
       "</div>"
      ],
      "text/plain": [
       "    animal    mean  min  max\n",
       "0    foxes   45.24   17  124\n",
       "1  rabbits  315.68  101  400"
      ]
     },
     "execution_count": 165,
     "metadata": {},
     "output_type": "execute_result"
    },
    {
     "data": {
      "image/png": "[encoded data removed]",
      "text/plain": [
       "<matplotlib.figure.Figure at 0x268fd2a2a20>"
      ]
     },
     "metadata": {},
     "output_type": "display_data"
    }
   ],
   "source": [
    "model.run_sim(50)\n",
    "model.get_summary()"
   ]
  },
  {
   "cell_type": "markdown",
   "metadata": {},
   "source": [
    "The population dynamics maintain a reasonable balance with this configuration. There is more variation in the rabbit population than in the fox population. "
   ]
  },
  {
   "cell_type": "code",
   "execution_count": 166,
   "metadata": {},
   "outputs": [
    {
     "data": {
      "text/html": [
       "<div>\n",
       "<style>\n",
       "    .dataframe thead tr:only-child th {\n",
       "        text-align: right;\n",
       "    }\n",
       "\n",
       "    .dataframe thead th {\n",
       "        text-align: left;\n",
       "    }\n",
       "\n",
       "    .dataframe tbody tr th {\n",
       "        vertical-align: top;\n",
       "    }\n",
       "</style>\n",
       "<table border=\"1\" class=\"dataframe\">\n",
       "  <thead>\n",
       "    <tr style=\"text-align: right;\">\n",
       "      <th></th>\n",
       "      <th>animal</th>\n",
       "      <th>mean</th>\n",
       "      <th>min</th>\n",
       "      <th>max</th>\n",
       "    </tr>\n",
       "  </thead>\n",
       "  <tbody>\n",
       "    <tr>\n",
       "      <th>0</th>\n",
       "      <td>foxes</td>\n",
       "      <td>6.38</td>\n",
       "      <td>0</td>\n",
       "      <td>26</td>\n",
       "    </tr>\n",
       "    <tr>\n",
       "      <th>1</th>\n",
       "      <td>rabbits</td>\n",
       "      <td>323.88</td>\n",
       "      <td>100</td>\n",
       "      <td>483</td>\n",
       "    </tr>\n",
       "  </tbody>\n",
       "</table>\n",
       "</div>"
      ],
      "text/plain": [
       "    animal    mean  min  max\n",
       "0    foxes    6.38    0   26\n",
       "1  rabbits  323.88  100  483"
      ]
     },
     "execution_count": 166,
     "metadata": {},
     "output_type": "execute_result"
    },
    {
     "data": {
      "image/png": "[encoded data removed]",
      "text/plain": [
       "<matplotlib.figure.Figure at 0x268fd161588>"
      ]
     },
     "metadata": {},
     "output_type": "display_data"
    }
   ],
   "source": [
    "nr = 500. # carrying capacity of rabbits\n",
    "\n",
    "r_init = 100 # initial rabbit population\n",
    "mr = 0.03 # magnitude of movement of rabbits\n",
    "dr = 6.0 # death rate of rabbits when it faces foxes\n",
    "rr = 0.1 # reproduction rate of rabbits\n",
    "\n",
    "f_init = 30 # initial fox population\n",
    "mf = 0.05 # magnitude of movement of foxes\n",
    "df = 0.1 # death rate of foxes when there is no food\n",
    "rf = 0.2 # reproduction rate of foxes\n",
    "\n",
    "cd = 0.02 # radius for collision detection\n",
    "cdsq = cd ** 2\n",
    "\n",
    "model = predatorPrey()\n",
    "model.run_sim(50)\n",
    "model.get_summary()"
   ]
  },
  {
   "cell_type": "markdown",
   "metadata": {},
   "source": [
    "Here the population of foxes gets close to extinction. By increasing the death rate of rabbits and decreasing the reproduction rate of foxes the population dynamics change such that the fox population has a hard time surviving. Repeated runs yield extinctions."
   ]
  },
  {
   "cell_type": "markdown",
   "metadata": {},
   "source": [
    "Agent based modeling is an interesting approach to understanding a system. It seems plausible that there are many processes that can be described with a few simple local actions and thus the results of this type of model would yield results similar to the real system. It is also a nice paradigm for exploration or introducing new behaviors after some amount of time.  "
   ]
  }
 ],
 "metadata": {
  "kernelspec": {
   "display_name": "Python 3",
   "language": "python",
   "name": "python3"
  },
  "language_info": {
   "codemirror_mode": {
    "name": "ipython",
    "version": 3
   },
   "file_extension": ".py",
   "mimetype": "text/x-python",
   "name": "python",
   "nbconvert_exporter": "python",
   "pygments_lexer": "ipython3",
   "version": "3.7.0"
  }
 },
 "nbformat": 4,
 "nbformat_minor": 2
}
